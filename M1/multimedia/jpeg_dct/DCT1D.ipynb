{
 "cells": [
  {
   "cell_type": "code",
   "execution_count": 9,
   "metadata": {},
   "outputs": [],
   "source": [
    "import math\n",
    "import numpy as np\n",
    "N=8\n",
    "IM = [\n",
    "[200,200,200,200,100,100,100,100],\n",
    "[200,200,100,100,200,200,100,100],\n",
    "[200,100,200,100,200,100,200,100]]"
   ]
  },
  {
   "cell_type": "code",
   "execution_count": 10,
   "metadata": {},
   "outputs": [],
   "source": [
    "def cosF1D(x, u, N=8):\n",
    "    return math.cos(((2*x+1)*u*math.pi)/(2*N))"
   ]
  },
  {
   "cell_type": "markdown",
   "metadata": {},
   "source": [
    "**Question 1**"
   ]
  },
  {
   "cell_type": "code",
   "execution_count": 11,
   "metadata": {},
   "outputs": [
    {
     "name": "stdout",
     "output_type": "stream",
     "text": [
      "[[ 1.          1.          1.          1.          1.          1.\n",
      "   1.          1.        ]\n",
      " [ 0.98078528  0.83146961  0.55557023  0.19509032 -0.19509032 -0.55557023\n",
      "  -0.83146961 -0.98078528]\n",
      " [ 0.92387953  0.38268343 -0.38268343 -0.92387953 -0.92387953 -0.38268343\n",
      "   0.38268343  0.92387953]\n",
      " [ 0.83146961 -0.19509032 -0.98078528 -0.55557023  0.55557023  0.98078528\n",
      "   0.19509032 -0.83146961]\n",
      " [ 0.70710678 -0.70710678 -0.70710678  0.70710678  0.70710678 -0.70710678\n",
      "  -0.70710678  0.70710678]\n",
      " [ 0.55557023 -0.98078528  0.19509032  0.83146961 -0.83146961 -0.19509032\n",
      "   0.98078528 -0.55557023]\n",
      " [ 0.38268343 -0.92387953  0.92387953 -0.38268343 -0.38268343  0.92387953\n",
      "  -0.92387953  0.38268343]\n",
      " [ 0.19509032 -0.55557023  0.83146961 -0.98078528  0.98078528 -0.83146961\n",
      "   0.55557023 -0.19509032]]\n"
     ]
    }
   ],
   "source": [
    "Mat = np.empty((8,8))\n",
    "for u in range(8):\n",
    "    for x in range(8):\n",
    "       Mat[u,x] = cosF1D(x,u)\n",
    "print(Mat)"
   ]
  },
  {
   "cell_type": "markdown",
   "metadata": {},
   "source": [
    "**Question 2**"
   ]
  },
  {
   "cell_type": "code",
   "execution_count": 12,
   "metadata": {},
   "outputs": [],
   "source": [
    "def alphaF(u):\n",
    "    if(u==0):\n",
    "        return 1/math.sqrt(2)\n",
    "    return 1"
   ]
  },
  {
   "cell_type": "code",
   "execution_count": 13,
   "metadata": {},
   "outputs": [],
   "source": [
    "def DCT1D(arr):\n",
    "    dct=[]\n",
    "    for u in range(8):\n",
    "        sum=0\n",
    "        for x in range(8):\n",
    "            sum+=arr[x]*cosF1D(x,u)\n",
    "        dct.append((math.sqrt(2)/math.sqrt(N))*alphaF(u)*sum)\n",
    "    return dct"
   ]
  },
  {
   "cell_type": "code",
   "execution_count": 14,
   "metadata": {},
   "outputs": [
    {
     "name": "stdout",
     "output_type": "stream",
     "text": [
      "[[424.2640687119285, 128.14577238707534, -2.1316282072803006e-14, -44.99881115682076, 7.105427357601002e-15, 30.06724434675235, -6.394884621840902e-14, -25.48977895520798], [424.2640687119285, 53.079716883502286, -4.973799150320701e-14, 108.63674018546246, 7.105427357601002e-14, -72.58874908511498, -7.815970093361102e-14, -10.558212145139448], [424.2640687119285, 25.489778955207996, -7.105427357601002e-15, 30.067244346752283, 3.552713678800501e-14, 44.99881115682088, -7.815970093361102e-14, 128.14577238707525]]\n"
     ]
    }
   ],
   "source": [
    "coef = []\n",
    "for i in range(3):\n",
    "    coef.append(DCT1D(IM[i]))\n",
    "print(coef)\n"
   ]
  },
  {
   "cell_type": "markdown",
   "metadata": {},
   "source": [
    "**Question 3**"
   ]
  },
  {
   "cell_type": "code",
   "execution_count": 15,
   "metadata": {},
   "outputs": [],
   "source": [
    "def invDCT1D(arr):\n",
    "    values=[]\n",
    "    for x in range(8):\n",
    "        sum=0\n",
    "        for u in range(8):\n",
    "            sum+=alphaF(u)*arr[u]*cosF1D(x,u)\n",
    "        values.append(round((math.sqrt(2)/math.sqrt(N))*sum))\n",
    "    return values"
   ]
  },
  {
   "cell_type": "code",
   "execution_count": 16,
   "metadata": {},
   "outputs": [
    {
     "name": "stdout",
     "output_type": "stream",
     "text": [
      "[[200, 200, 200, 200, 100, 100, 100, 100], [200, 200, 100, 100, 200, 200, 100, 100], [200, 100, 200, 100, 200, 100, 200, 100]]\n"
     ]
    }
   ],
   "source": [
    "#result = np.empty((3,8))\n",
    "result=[]\n",
    "\n",
    "for i in range(3):\n",
    "    result.append(invDCT1D(coef[i]))\n",
    "print(result)"
   ]
  }
 ],
 "metadata": {
  "kernelspec": {
   "display_name": "Python 3.10.6 64-bit",
   "language": "python",
   "name": "python3"
  },
  "language_info": {
   "codemirror_mode": {
    "name": "ipython",
    "version": 3
   },
   "file_extension": ".py",
   "mimetype": "text/x-python",
   "name": "python",
   "nbconvert_exporter": "python",
   "pygments_lexer": "ipython3",
   "version": "3.10.6"
  },
  "orig_nbformat": 4,
  "vscode": {
   "interpreter": {
    "hash": "916dbcbb3f70747c44a77c7bcd40155683ae19c65e1c03b4aa3499c5328201f1"
   }
  }
 },
 "nbformat": 4,
 "nbformat_minor": 2
}
