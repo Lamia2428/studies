{
 "cells": [
  {
   "cell_type": "code",
   "execution_count": 13,
   "metadata": {},
   "outputs": [],
   "source": [
    "import math\n",
    "import numpy as np\n",
    "N=8\n",
    "IM = [\n",
    "[140, 144, 147, 140, 140, 155, 179, 175],\n",
    "[144, 152, 140, 147, 140, 148, 167, 179],\n",
    "[152, 155, 136, 167, 163, 162, 152, 172],\n",
    "[168, 145, 156, 160, 152, 155, 136, 160],\n",
    "[162, 148, 156, 148, 140, 136, 147, 162],\n",
    "[147, 167, 140, 155, 155, 140, 136, 162],\n",
    "[136, 156, 123, 167, 162, 144, 140, 147],\n",
    "[148, 155, 136, 155, 152, 147, 147, 136]\n",
    "]"
   ]
  },
  {
   "cell_type": "code",
   "execution_count": 14,
   "metadata": {},
   "outputs": [],
   "source": [
    "def cosF2D(x,y,u,v,N=8):\n",
    "    return math.cos(((2*x+1)*u*math.pi)/(2*N))*math.cos(((2*y+1)*v*math.pi)/(2*N))"
   ]
  },
  {
   "cell_type": "code",
   "execution_count": 15,
   "metadata": {},
   "outputs": [],
   "source": [
    "def alphaF(u):\n",
    "    if(u==0):\n",
    "        return 1/math.sqrt(2)\n",
    "    return 1"
   ]
  },
  {
   "cell_type": "code",
   "execution_count": 16,
   "metadata": {},
   "outputs": [],
   "source": [
    "def DCT2D(mat):\n",
    "    dctmat = np.empty((8,8))\n",
    "    for u in range(8):\n",
    "        for v in range(8):\n",
    "            sum=0\n",
    "            for x in range(8):\n",
    "                for y in range(8):\n",
    "                    sum+=mat[x][y]*cosF2D(x,y,u,v)\n",
    "            dctmat[u,v]=((2/N)*alphaF(u)*alphaF(v)*sum)\n",
    "    return dctmat"
   ]
  },
  {
   "cell_type": "code",
   "execution_count": 17,
   "metadata": {},
   "outputs": [
    {
     "name": "stdout",
     "output_type": "stream",
     "text": [
      "[[ 1.21000000e+03 -1.79969274e+01  1.47792562e+01 -8.97955730e+00\n",
      "   2.32500000e+01 -9.23255678e+00 -1.39691118e+01 -1.89370814e+01]\n",
      " [ 2.05382276e+01 -3.40929440e+01  2.63303987e+01 -9.03852124e+00\n",
      "  -1.09329990e+01  1.07306880e+01  1.37724351e+01  6.95477276e+00]\n",
      " [-1.03840293e+01 -2.35140743e+01 -1.85355339e+00  6.04046460e+00\n",
      "  -1.80745099e+01  3.19697188e+00 -2.04172619e+01 -8.26483087e-01]\n",
      " [-8.10480653e+00 -5.04145665e+00  1.43321515e+01 -1.46133952e+01\n",
      "  -8.21783153e+00 -2.73239254e+00 -3.08450997e+00  8.42915576e+00]\n",
      " [-3.25000000e+00  9.50142615e+00  7.88463853e+00  1.31702518e+00\n",
      "  -1.10000000e+01  1.79044788e+01  1.83819198e+01  1.52411608e+01]\n",
      " [ 3.85563302e+00 -2.21468967e+00 -1.81669702e+01  8.49984050e+00\n",
      "   8.26883065e+00 -3.60843022e+00  8.68997963e-01 -6.86252446e+00]\n",
      " [ 8.90137263e+00  6.33019969e-01 -2.91726189e+00  3.64136599e+00\n",
      "  -1.17243048e+00 -7.42180500e+00 -1.14644661e+00 -1.92456331e+00]\n",
      " [ 4.91223598e-02 -7.81299419e+00 -2.42450875e+00  1.59037982e+00\n",
      "   1.19925710e+00  4.24701267e+00 -6.41741059e+00  3.14769437e-01]]\n"
     ]
    }
   ],
   "source": [
    "print(DCT2D(IM))"
   ]
  },
  {
   "cell_type": "code",
   "execution_count": 18,
   "metadata": {},
   "outputs": [],
   "source": [
    "def invDCT3D(mat):\n",
    "    values=[]\n",
    "    for x in range(8):\n",
    "        for y in range(8):\n",
    "            sum=0\n",
    "            for u in range(8):\n",
    "                for v in range(8):\n",
    "                    sum+=alphaF(u)*alphaF(v)*mat[u][v]*cosF2D(x,y,u,v)\n",
    "            values.append(round((2/N)*sum))\n",
    "    return values"
   ]
  },
  {
   "cell_type": "code",
   "execution_count": 19,
   "metadata": {},
   "outputs": [
    {
     "name": "stdout",
     "output_type": "stream",
     "text": [
      "[140, 144, 147, 140, 140, 155, 179, 175, 144, 152, 140, 147, 140, 148, 167, 179, 152, 155, 136, 167, 163, 162, 152, 172, 168, 145, 156, 160, 152, 155, 136, 160, 162, 148, 156, 148, 140, 136, 147, 162, 147, 167, 140, 155, 155, 140, 136, 162, 136, 156, 123, 167, 162, 144, 140, 147, 148, 155, 136, 155, 152, 147, 147, 136]\n"
     ]
    }
   ],
   "source": [
    "\n",
    "print(invDCT3D(DCT2D(IM)))"
   ]
  }
 ],
 "metadata": {
  "kernelspec": {
   "display_name": "Python 3.10.6 64-bit",
   "language": "python",
   "name": "python3"
  },
  "language_info": {
   "codemirror_mode": {
    "name": "ipython",
    "version": 3
   },
   "file_extension": ".py",
   "mimetype": "text/x-python",
   "name": "python",
   "nbconvert_exporter": "python",
   "pygments_lexer": "ipython3",
   "version": "3.10.6"
  },
  "orig_nbformat": 4,
  "vscode": {
   "interpreter": {
    "hash": "916dbcbb3f70747c44a77c7bcd40155683ae19c65e1c03b4aa3499c5328201f1"
   }
  }
 },
 "nbformat": 4,
 "nbformat_minor": 2
}
