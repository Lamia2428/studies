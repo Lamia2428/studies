{
 "cells": [
  {
   "cell_type": "code",
   "execution_count": 20,
   "metadata": {},
   "outputs": [
    {
     "name": "stdout",
     "output_type": "stream",
     "text": [
      "la defintition de l'image 11000000\n",
      "la defintition de l'image 21000000\n",
      "4.0\n",
      "8.0\n"
     ]
    }
   ],
   "source": [
    "import numpy as np\n",
    "import cv2\n",
    "import matplotlib.pyplot as plt\n",
    "from PIL import Image\n",
    "import math\n",
    "\n",
    "image1 = Image.open(\"./lucy_paw_4bits.bmp\")\n",
    "image2 = Image.open(\"./lucy_paw_8bits.bmp\")\n",
    "\n",
    "image1 = cv2.imread(\"./lucy_paw_4bits.bmp\")\n",
    "image2 = cv2.imread(\"./lucy_paw_8bits.bmp\")\n",
    "\n",
    "height= image1.shape[0]\n",
    "width = image1.shape[1]\n",
    "height2 =image2.shape[0]\n",
    "width2 = image2.shape[1]\n",
    "\n",
    "def1 = height * width\n",
    "def2 = height2 * width2\n",
    "\n",
    "\n",
    "image1 = Image.open(\"./lucy_paw_4bits.bmp\")\n",
    "image2 = Image.open(\"./lucy_paw_8bits.bmp\")\n",
    "\n",
    "print(\"la defintition de l'image 1\" + str(def1))\n",
    "print(\"la defintition de l'image 2\" + str(def2))\n",
    "\n",
    "\n",
    "\n",
    "max1 = np.asarray(image1).max()\n",
    "max2 = np.asarray(image2).max()\n",
    "\n",
    "\n",
    "\n",
    "resolution1 = np.log(max1) / np.log(2)\n",
    "resolution1 = np.ceil(resolution1)\n",
    "resolution2 = np.log(max2) / np.log(2)\n",
    "resolution2 = np.ceil(resolution2)\n",
    "print(resolution1)\n",
    "print(resolution2)\n",
    "\n",
    "\n",
    "\n"
   ]
  }
 ],
 "metadata": {
  "kernelspec": {
   "display_name": "Python 3.10.6 64-bit",
   "language": "python",
   "name": "python3"
  },
  "language_info": {
   "codemirror_mode": {
    "name": "ipython",
    "version": 3
   },
   "file_extension": ".py",
   "mimetype": "text/x-python",
   "name": "python",
   "nbconvert_exporter": "python",
   "pygments_lexer": "ipython3",
   "version": "3.10.6"
  },
  "orig_nbformat": 4,
  "vscode": {
   "interpreter": {
    "hash": "916dbcbb3f70747c44a77c7bcd40155683ae19c65e1c03b4aa3499c5328201f1"
   }
  }
 },
 "nbformat": 4,
 "nbformat_minor": 2
}
