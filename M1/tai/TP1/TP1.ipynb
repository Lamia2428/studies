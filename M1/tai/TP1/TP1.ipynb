{
 "cells": [
  {
   "cell_type": "code",
   "execution_count": null,
   "metadata": {},
   "outputs": [],
   "source": [
    "import numpy as np\n",
    "import cv2\n",
    "import matplotlib.pyplot as plt"
   ]
  },
  {
   "cell_type": "code",
   "execution_count": null,
   "metadata": {},
   "outputs": [],
   "source": [
    "outfile1 = 'lines1.npy'\n",
    "outfile2 = 'Cols1.npy'\n",
    "outfile3 = 'amplitude1.npy'\n",
    "lines=np.loas(outfile1)\n",
    "cols=np.load(outfile2)\n",
    "amplitude=np.load(outfile3)"
   ]
  },
  {
   "cell_type": "code",
   "execution_count": null,
   "metadata": {},
   "outputs": [],
   "source": [
    "def sampling(lines, cols, step):\n",
    "    '''nous prennons des echantiollons des lignes, clonnes et de l'amplitude à \n",
    "    chaque saut step'''\n",
    "    if len (lines)%step != 0:\n",
    "        a=int(len(lines)/step)\n",
    "    else:\n",
    "        a=int(len(lines)/step)+1\n",
    "    if len(cols)%step !=0:\n",
    "        b=int(len(cols)/step)+1\n",
    "    else:\n",
    "        b=int(len(cols)/step)\n",
    "    \n",
    "    img = np.zeros((a,b))\n",
    "    k=0\n",
    "    for line in range(0, len(lines), step):\n",
    "        l=0\n",
    "        for col in range(0, len(cols), step):\n",
    "            img[k,l]=amplitude[line, col]\n",
    "            l+=1\n",
    "        k+=1\n",
    "    return(img)"
   ]
  },
  {
   "cell_type": "code",
   "execution_count": null,
   "metadata": {},
   "outputs": [],
   "source": [
    "from matplotlib.pyplot import colorbar\n",
    "\n",
    "\n",
    "def quantification(nBits, amplitude):\n",
    "    # calculer le nombre de niveaux de gris\n",
    "    L= pow(2,nBits)\n",
    "    # les niveaux de gris possibles\n",
    "    colors = [i for i in range(L)]\n",
    "    # int et np.rint sont equivalents pour real to integer\n",
    "    # changer de reel vers entier\n",
    "    old_min=np.amin(amplitude)\n",
    "    old_max=np.amax(amplitude)\n",
    "    new_min=min(colors)\n",
    "    new_max=max(colors)\n",
    "    # convertir mes anciennes valeurs vers les nouvelles\n",
    "    quantified = np.rint(((amplitude-old_min)*(new_max-new_min)/(old_max-old_min))"
   ]
  },
  {
   "cell_type": "code",
   "execution_count": null,
   "metadata": {},
   "outputs": [],
   "source": [
    "#verifier que les deux images ont la meme taille\n",
    "# redimonsionner les images au besoin\n",
    "def checkSize(image1, image2):\n",
    "    minL=min (image1.shape[0],image2.shape[0])\n",
    "    minC=min (image1.shape[1],image2.shape[1])\n",
    "    image1 = cv2.resize(image1, dsize=(minL, minC))\n",
    "    image2 = cv2.resize(image2, dsize=(minL, minC))\n",
    "    return image1,image2"
   ]
  },
  {
   "cell_type": "code",
   "execution_count": null,
   "metadata": {},
   "outputs": [],
   "source": [
    "#methode manuelle \n",
    "#le pixel superieur a 255 est remplace pas 255\n",
    "\n",
    "\n",
    "def addImagesbasic(image1, image2):\n",
    "    image1,image2=checkSize(image1, image2)\n",
    "    #appliquer l'addition\n",
    "    added=np.zeros((image1.shape[0], image1.shape[0]))\n",
    "    for i in range(image1.shape[0]):\n",
    "        for j in range (image1.shape[1]):\n",
    "            #on considere 255 comme element neutre\n",
    "            if(image1[i,j]== 255):\n",
    "                value =image2[i,j]\n",
    "            else:\n",
    "                if (image2[i,j]==255):\n",
    "                    value= image2[i,j]\n",
    "                else:\n",
    "                    value = image1[i,j]+image2[i,j]\n",
    "            if value(value> 255):\n",
    "                value = 255\n",
    "            added[i,j] = value\n",
    "    return added\n"
   ]
  },
  {
   "cell_type": "code",
   "execution_count": null,
   "metadata": {},
   "outputs": [],
   "source": [
    "#methode manuelle\n",
    "# le pixel superieur a 255 est replace par 255\n",
    "from email.mime import image\n",
    "\n",
    "\n",
    "def addImages(image1, image2):\n",
    "    image1,image2=checkSize(image1, image2)\n",
    "    #appliquer l'addition\n",
    "    added= image1+image2\n",
    "    return added"
   ]
  },
  {
   "cell_type": "code",
   "execution_count": null,
   "metadata": {},
   "outputs": [],
   "source": [
    "#methode avec modulo\n",
    "# le pixel superieur a 255 est replace par pixel modulo 255\n",
    "def addImagesModulo (image1, image2):\n",
    "    image1,image2=checkSize(image1, image2)\n",
    "    added = image1 + image2\n",
    "    added = added % 256\n",
    "    return added"
   ]
  },
  {
   "cell_type": "code",
   "execution_count": null,
   "metadata": {},
   "outputs": [],
   "source": [
    "#addidtion avec opencv\n",
    "def addImagesCV(image1, image2):\n",
    "    image1,image2=checkSize(image1, image2)\n",
    "    image1 = image1.astype(np.int16)\n",
    "    image2 = image2.astype(np.int16)\n",
    "    added = cv2.add(image1, image2)\n",
    "    return added"
   ]
  },
  {
   "cell_type": "code",
   "execution_count": null,
   "metadata": {},
   "outputs": [],
   "source": [
    "#addition avec poids,opencv\n",
    "def addImagesCVweight(image1, image2):\n",
    "    image1,image2=checkSize(image1, image2)\n",
    "    image1 = image1.astype(np.int16)\n",
    "    image2 = image2.astype(np.int16)\n",
    "    added = cv2.addWeighted(image1,0.5, image2)\n",
    "    \n"
   ]
  }
 ],
 "metadata": {
  "kernelspec": {
   "display_name": "Python 3.10.4 64-bit",
   "language": "python",
   "name": "python3"
  },
  "language_info": {
   "name": "python",
   "version": "3.10.6"
  },
  "orig_nbformat": 4,
  "vscode": {
   "interpreter": {
    "hash": "916dbcbb3f70747c44a77c7bcd40155683ae19c65e1c03b4aa3499c5328201f1"
   }
  }
 },
 "nbformat": 4,
 "nbformat_minor": 2
}
