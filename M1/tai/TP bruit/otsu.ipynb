{
 "cells": [
  {
   "cell_type": "code",
   "execution_count": null,
   "metadata": {},
   "outputs": [],
   "source": [
    "import numpy as np\n",
    "import cv2"
   ]
  },
  {
   "cell_type": "code",
   "execution_count": null,
   "metadata": {},
   "outputs": [],
   "source": [
    "def compute_otsu_criteria(im, th):\n",
    "    # create the thresholded image\n",
    "    thresholded_im = np.zeros(im.shape)\n",
    "    thresholded_im[im >= th] = 1\n",
    "\n",
    "    # compute weights\n",
    "    nb_pixels = im.size\n",
    "    nb_pixels1 = np.count_nonzero(thresholded_im)\n",
    "    weight1 = nb_pixels1 / nb_pixels\n",
    "    weight0 = 1 - weight1\n",
    "\n",
    "    # if one the classes is empty, eg all pixels are below or above the threshold, that threshold will not be considered\n",
    "    # in the search for the best threshold\n",
    "    if weight1 == 0 or weight0 == 0:\n",
    "        return np.inf\n",
    "\n",
    "    # find all pixels belonging to each class\n",
    "    val_pixels1 = im[thresholded_im == 1]\n",
    "    val_pixels0 = im[thresholded_im == 0]\n",
    "\n",
    "    # compute variance of these classes\n",
    "    var0 = np.var(val_pixels0) if len(val_pixels0) > 0 else 0\n",
    "    var1 = np.var(val_pixels1) if len(val_pixels1) > 0 else 0\n",
    "\n",
    "    return weight0 * var0 + weight1 * var1"
   ]
  },
  {
   "cell_type": "code",
   "execution_count": null,
   "metadata": {},
   "outputs": [],
   "source": [
    "photo = cv2.imread(\"./lena.png\",0)"
   ]
  },
  {
   "cell_type": "code",
   "execution_count": null,
   "metadata": {},
   "outputs": [],
   "source": [
    "#load your image as a numpy array.\n",
    "im = np.array(photo)\n",
    "# For testing purposes, one can use for example im = np.random.randint(0,255, size = (50,50))\n",
    "\n",
    "# testing all thresholds from 0 to the maximum of the image\n",
    "threshold_range = range(np.max(im)+1)\n",
    "criterias = [compute_otsu_criteria(im, th) for th in threshold_range]\n",
    "\n",
    "# best threshold is the one minimizing the Otsu criteria\n",
    "best_threshold = threshold_range[np.argmin(criterias)]\n",
    "print(best_threshold)"
   ]
  },
  {
   "cell_type": "code",
   "execution_count": null,
   "metadata": {},
   "outputs": [],
   "source": [
    "ret,threshcv = cv2.threshold(photo,0,255,cv2.THRESH_BINARY+cv2.THRESH_OTSU)\n",
    "print(ret)"
   ]
  }
 ],
 "metadata": {
  "kernelspec": {
   "display_name": "Python 3.10.6 64-bit",
   "language": "python",
   "name": "python3"
  },
  "language_info": {
   "codemirror_mode": {
    "name": "ipython",
    "version": 3
   },
   "file_extension": ".py",
   "mimetype": "text/x-python",
   "name": "python",
   "nbconvert_exporter": "python",
   "pygments_lexer": "ipython3",
   "version": "3.10.6"
  },
  "orig_nbformat": 4,
  "vscode": {
   "interpreter": {
    "hash": "916dbcbb3f70747c44a77c7bcd40155683ae19c65e1c03b4aa3499c5328201f1"
   }
  }
 },
 "nbformat": 4,
 "nbformat_minor": 2
}
